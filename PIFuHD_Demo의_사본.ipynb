{
  "nbformat": 4,
  "nbformat_minor": 0,
  "metadata": {
    "colab": {
      "name": "PIFuHD Demo의 사본",
      "provenance": [],
      "collapsed_sections": [],
      "toc_visible": true
    },
    "kernelspec": {
      "name": "python3",
      "display_name": "Python 3"
    },
    "accelerator": "GPU",
    "widgets": {
      "application/vnd.jupyter.widget-state+json": {
        "ec5423a38c9743ef8bf3ea107c68907f": {
          "model_module": "@jupyter-widgets/controls",
          "model_name": "HBoxModel",
          "state": {
            "_view_name": "HBoxView",
            "_dom_classes": [],
            "_model_name": "HBoxModel",
            "_view_module": "@jupyter-widgets/controls",
            "_model_module_version": "1.5.0",
            "_view_count": null,
            "_view_module_version": "1.5.0",
            "box_style": "",
            "layout": "IPY_MODEL_c27b771d544c46c2835b9afde0261e78",
            "_model_module": "@jupyter-widgets/controls",
            "children": [
              "IPY_MODEL_6ff97ced2ce24551aab26b75c9c983d9",
              "IPY_MODEL_a6332c4238ee4f9abe9cf45c520ae795"
            ]
          }
        },
        "c27b771d544c46c2835b9afde0261e78": {
          "model_module": "@jupyter-widgets/base",
          "model_name": "LayoutModel",
          "state": {
            "_view_name": "LayoutView",
            "grid_template_rows": null,
            "right": null,
            "justify_content": null,
            "_view_module": "@jupyter-widgets/base",
            "overflow": null,
            "_model_module_version": "1.2.0",
            "_view_count": null,
            "flex_flow": null,
            "width": null,
            "min_width": null,
            "border": null,
            "align_items": null,
            "bottom": null,
            "_model_module": "@jupyter-widgets/base",
            "top": null,
            "grid_column": null,
            "overflow_y": null,
            "overflow_x": null,
            "grid_auto_flow": null,
            "grid_area": null,
            "grid_template_columns": null,
            "flex": null,
            "_model_name": "LayoutModel",
            "justify_items": null,
            "grid_row": null,
            "max_height": null,
            "align_content": null,
            "visibility": null,
            "align_self": null,
            "height": null,
            "min_height": null,
            "padding": null,
            "grid_auto_rows": null,
            "grid_gap": null,
            "max_width": null,
            "order": null,
            "_view_module_version": "1.2.0",
            "grid_template_areas": null,
            "object_position": null,
            "object_fit": null,
            "grid_auto_columns": null,
            "margin": null,
            "display": null,
            "left": null
          }
        },
        "6ff97ced2ce24551aab26b75c9c983d9": {
          "model_module": "@jupyter-widgets/controls",
          "model_name": "FloatProgressModel",
          "state": {
            "_view_name": "ProgressView",
            "style": "IPY_MODEL_8c7cd963f0b64a27adc8bff391e3a6ec",
            "_dom_classes": [],
            "description": "100%",
            "_model_name": "FloatProgressModel",
            "bar_style": "success",
            "max": 90,
            "_view_module": "@jupyter-widgets/controls",
            "_model_module_version": "1.5.0",
            "value": 90,
            "_view_count": null,
            "_view_module_version": "1.5.0",
            "orientation": "horizontal",
            "min": 0,
            "description_tooltip": null,
            "_model_module": "@jupyter-widgets/controls",
            "layout": "IPY_MODEL_e82a0216c58b451b88ca575a2ea69ba2"
          }
        },
        "a6332c4238ee4f9abe9cf45c520ae795": {
          "model_module": "@jupyter-widgets/controls",
          "model_name": "HTMLModel",
          "state": {
            "_view_name": "HTMLView",
            "style": "IPY_MODEL_b6d2ffbc28e74644a4964f16a2062c80",
            "_dom_classes": [],
            "description": "",
            "_model_name": "HTMLModel",
            "placeholder": "​",
            "_view_module": "@jupyter-widgets/controls",
            "_model_module_version": "1.5.0",
            "value": " 90/90 [00:03&lt;00:00, 27.89it/s]",
            "_view_count": null,
            "_view_module_version": "1.5.0",
            "description_tooltip": null,
            "_model_module": "@jupyter-widgets/controls",
            "layout": "IPY_MODEL_8b425b8723d54b33b6ad48b92b7be900"
          }
        },
        "8c7cd963f0b64a27adc8bff391e3a6ec": {
          "model_module": "@jupyter-widgets/controls",
          "model_name": "ProgressStyleModel",
          "state": {
            "_view_name": "StyleView",
            "_model_name": "ProgressStyleModel",
            "description_width": "initial",
            "_view_module": "@jupyter-widgets/base",
            "_model_module_version": "1.5.0",
            "_view_count": null,
            "_view_module_version": "1.2.0",
            "bar_color": null,
            "_model_module": "@jupyter-widgets/controls"
          }
        },
        "e82a0216c58b451b88ca575a2ea69ba2": {
          "model_module": "@jupyter-widgets/base",
          "model_name": "LayoutModel",
          "state": {
            "_view_name": "LayoutView",
            "grid_template_rows": null,
            "right": null,
            "justify_content": null,
            "_view_module": "@jupyter-widgets/base",
            "overflow": null,
            "_model_module_version": "1.2.0",
            "_view_count": null,
            "flex_flow": null,
            "width": null,
            "min_width": null,
            "border": null,
            "align_items": null,
            "bottom": null,
            "_model_module": "@jupyter-widgets/base",
            "top": null,
            "grid_column": null,
            "overflow_y": null,
            "overflow_x": null,
            "grid_auto_flow": null,
            "grid_area": null,
            "grid_template_columns": null,
            "flex": null,
            "_model_name": "LayoutModel",
            "justify_items": null,
            "grid_row": null,
            "max_height": null,
            "align_content": null,
            "visibility": null,
            "align_self": null,
            "height": null,
            "min_height": null,
            "padding": null,
            "grid_auto_rows": null,
            "grid_gap": null,
            "max_width": null,
            "order": null,
            "_view_module_version": "1.2.0",
            "grid_template_areas": null,
            "object_position": null,
            "object_fit": null,
            "grid_auto_columns": null,
            "margin": null,
            "display": null,
            "left": null
          }
        },
        "b6d2ffbc28e74644a4964f16a2062c80": {
          "model_module": "@jupyter-widgets/controls",
          "model_name": "DescriptionStyleModel",
          "state": {
            "_view_name": "StyleView",
            "_model_name": "DescriptionStyleModel",
            "description_width": "",
            "_view_module": "@jupyter-widgets/base",
            "_model_module_version": "1.5.0",
            "_view_count": null,
            "_view_module_version": "1.2.0",
            "_model_module": "@jupyter-widgets/controls"
          }
        },
        "8b425b8723d54b33b6ad48b92b7be900": {
          "model_module": "@jupyter-widgets/base",
          "model_name": "LayoutModel",
          "state": {
            "_view_name": "LayoutView",
            "grid_template_rows": null,
            "right": null,
            "justify_content": null,
            "_view_module": "@jupyter-widgets/base",
            "overflow": null,
            "_model_module_version": "1.2.0",
            "_view_count": null,
            "flex_flow": null,
            "width": null,
            "min_width": null,
            "border": null,
            "align_items": null,
            "bottom": null,
            "_model_module": "@jupyter-widgets/base",
            "top": null,
            "grid_column": null,
            "overflow_y": null,
            "overflow_x": null,
            "grid_auto_flow": null,
            "grid_area": null,
            "grid_template_columns": null,
            "flex": null,
            "_model_name": "LayoutModel",
            "justify_items": null,
            "grid_row": null,
            "max_height": null,
            "align_content": null,
            "visibility": null,
            "align_self": null,
            "height": null,
            "min_height": null,
            "padding": null,
            "grid_auto_rows": null,
            "grid_gap": null,
            "max_width": null,
            "order": null,
            "_view_module_version": "1.2.0",
            "grid_template_areas": null,
            "object_position": null,
            "object_fit": null,
            "grid_auto_columns": null,
            "margin": null,
            "display": null,
            "left": null
          }
        }
      }
    }
  },
  "cells": [
    {
      "cell_type": "code",
      "metadata": {
        "id": "IVS6sUf3obJJ",
        "colab": {
          "base_uri": "https://localhost:8080/"
        },
        "outputId": "a5484d8b-dc15-459d-8804-bdb62010ee2a"
      },
      "source": [
        "from google.colab import files\n",
        "\n",
        "# filename = list(files.upload().keys())[0]\n",
        "# !wget -c https://toppng.com/uploads/preview/men-pointing-left-png-image-standi-11563245956mgb5x9u66p.png\n",
        "!wget -c https://toppng.com/uploads/preview/man-in-suit-standing-11549008032uo27puiagi.png\n",
        "# !wget -c https://img.pngio.com/free-icons-png-man-in-suit-png-free-png-man-standing-1399_1399.png"
      ],
      "execution_count": 1,
      "outputs": [
        {
          "output_type": "stream",
          "text": [
            "--2021-04-07 06:40:37--  https://toppng.com/uploads/preview/man-in-suit-standing-11549008032uo27puiagi.png\n",
            "Resolving toppng.com (toppng.com)... 172.67.134.122, 104.21.25.188, 2606:4700:3034::ac43:867a, ...\n",
            "Connecting to toppng.com (toppng.com)|172.67.134.122|:443... connected.\n",
            "HTTP request sent, awaiting response... 200 OK\n",
            "Length: 280901 (274K) [image/png]\n",
            "Saving to: ‘man-in-suit-standing-11549008032uo27puiagi.png’\n",
            "\n",
            "\r          man-in-su   0%[                    ]       0  --.-KB/s               \rman-in-suit-standin 100%[===================>] 274.32K  --.-KB/s    in 0.08s   \n",
            "\n",
            "2021-04-07 06:40:38 (3.19 MB/s) - ‘man-in-suit-standing-11549008032uo27puiagi.png’ saved [280901/280901]\n",
            "\n"
          ],
          "name": "stdout"
        }
      ]
    },
    {
      "cell_type": "code",
      "metadata": {
        "id": "jM6ggHMmt3sr",
        "colab": {
          "base_uri": "https://localhost:8080/"
        },
        "outputId": "2cdb16e9-a5a9-47c2-888a-de5200cfb3f9"
      },
      "source": [
        "!pip install 'torch==1.6.0+cu101' -f https://download.pytorch.org/whl/torch_stable.html\n",
        "!pip install 'torchvision==0.7.0+cu101' -f https://download.pytorch.org/whl/torch_stable.html\n",
        "!pip install 'pytorch3d==0.2.5'"
      ],
      "execution_count": 2,
      "outputs": [
        {
          "output_type": "stream",
          "text": [
            "Looking in links: https://download.pytorch.org/whl/torch_stable.html\n",
            "Collecting torch==1.6.0+cu101\n",
            "\u001b[?25l  Downloading https://download.pytorch.org/whl/cu101/torch-1.6.0%2Bcu101-cp37-cp37m-linux_x86_64.whl (708.0MB)\n",
            "\u001b[K     |████████████████████████████████| 708.0MB 26kB/s \n",
            "\u001b[?25hRequirement already satisfied: numpy in /usr/local/lib/python3.7/dist-packages (from torch==1.6.0+cu101) (1.19.5)\n",
            "Requirement already satisfied: future in /usr/local/lib/python3.7/dist-packages (from torch==1.6.0+cu101) (0.16.0)\n",
            "\u001b[31mERROR: torchvision 0.9.1+cu101 has requirement torch==1.8.1, but you'll have torch 1.6.0+cu101 which is incompatible.\u001b[0m\n",
            "\u001b[31mERROR: torchtext 0.9.1 has requirement torch==1.8.1, but you'll have torch 1.6.0+cu101 which is incompatible.\u001b[0m\n",
            "Installing collected packages: torch\n",
            "  Found existing installation: torch 1.8.1+cu101\n",
            "    Uninstalling torch-1.8.1+cu101:\n",
            "      Successfully uninstalled torch-1.8.1+cu101\n",
            "Successfully installed torch-1.6.0+cu101\n",
            "Looking in links: https://download.pytorch.org/whl/torch_stable.html\n",
            "Collecting torchvision==0.7.0+cu101\n",
            "\u001b[?25l  Downloading https://download.pytorch.org/whl/cu101/torchvision-0.7.0%2Bcu101-cp37-cp37m-linux_x86_64.whl (5.9MB)\n",
            "\u001b[K     |████████████████████████████████| 5.9MB 25.7MB/s \n",
            "\u001b[?25hRequirement already satisfied: pillow>=4.1.1 in /usr/local/lib/python3.7/dist-packages (from torchvision==0.7.0+cu101) (7.1.2)\n",
            "Requirement already satisfied: numpy in /usr/local/lib/python3.7/dist-packages (from torchvision==0.7.0+cu101) (1.19.5)\n",
            "Requirement already satisfied: torch==1.6.0 in /usr/local/lib/python3.7/dist-packages (from torchvision==0.7.0+cu101) (1.6.0+cu101)\n",
            "Requirement already satisfied: future in /usr/local/lib/python3.7/dist-packages (from torch==1.6.0->torchvision==0.7.0+cu101) (0.16.0)\n",
            "Installing collected packages: torchvision\n",
            "  Found existing installation: torchvision 0.9.1+cu101\n",
            "    Uninstalling torchvision-0.9.1+cu101:\n",
            "      Successfully uninstalled torchvision-0.9.1+cu101\n",
            "Successfully installed torchvision-0.7.0+cu101\n",
            "Collecting pytorch3d==0.2.5\n",
            "\u001b[?25l  Downloading https://files.pythonhosted.org/packages/65/13/23991c662523cb444e6096d009a11bb8e8d61f7efa6f36cf1859b79a1f6f/pytorch3d-0.2.5-cp37-cp37m-manylinux1_x86_64.whl (20.6MB)\n",
            "\u001b[K     |████████████████████████████████| 20.6MB 161kB/s \n",
            "\u001b[?25hCollecting fvcore\n",
            "\u001b[?25l  Downloading https://files.pythonhosted.org/packages/88/87/f60b496ad3d7c07607d6213a1beab9100a7ea3c6cdb82bcbcf8c6a7f6b63/fvcore-0.1.5.post20210402.tar.gz (47kB)\n",
            "\u001b[K     |████████████████████████████████| 51kB 7.8MB/s \n",
            "\u001b[?25hRequirement already satisfied: torchvision>=0.4 in /usr/local/lib/python3.7/dist-packages (from pytorch3d==0.2.5) (0.7.0+cu101)\n",
            "Requirement already satisfied: numpy in /usr/local/lib/python3.7/dist-packages (from fvcore->pytorch3d==0.2.5) (1.19.5)\n",
            "Collecting yacs>=0.1.6\n",
            "  Downloading https://files.pythonhosted.org/packages/38/4f/fe9a4d472aa867878ce3bb7efb16654c5d63672b86dc0e6e953a67018433/yacs-0.1.8-py3-none-any.whl\n",
            "Collecting pyyaml>=5.1\n",
            "\u001b[?25l  Downloading https://files.pythonhosted.org/packages/7a/a5/393c087efdc78091afa2af9f1378762f9821c9c1d7a22c5753fb5ac5f97a/PyYAML-5.4.1-cp37-cp37m-manylinux1_x86_64.whl (636kB)\n",
            "\u001b[K     |████████████████████████████████| 645kB 46.9MB/s \n",
            "\u001b[?25hRequirement already satisfied: tqdm in /usr/local/lib/python3.7/dist-packages (from fvcore->pytorch3d==0.2.5) (4.41.1)\n",
            "Requirement already satisfied: termcolor>=1.1 in /usr/local/lib/python3.7/dist-packages (from fvcore->pytorch3d==0.2.5) (1.1.0)\n",
            "Requirement already satisfied: Pillow in /usr/local/lib/python3.7/dist-packages (from fvcore->pytorch3d==0.2.5) (7.1.2)\n",
            "Requirement already satisfied: tabulate in /usr/local/lib/python3.7/dist-packages (from fvcore->pytorch3d==0.2.5) (0.8.9)\n",
            "Collecting iopath>=0.1.7\n",
            "  Downloading https://files.pythonhosted.org/packages/21/d0/22104caed16fa41382702fed959f4a9b088b2f905e7a82e4483180a2ec2a/iopath-0.1.8-py3-none-any.whl\n",
            "Requirement already satisfied: torch==1.6.0 in /usr/local/lib/python3.7/dist-packages (from torchvision>=0.4->pytorch3d==0.2.5) (1.6.0+cu101)\n",
            "Collecting portalocker\n",
            "  Downloading https://files.pythonhosted.org/packages/68/33/cb524f4de298509927b90aa5ee34767b9a2b93e663cf354b2a3efa2b4acd/portalocker-2.3.0-py2.py3-none-any.whl\n",
            "Requirement already satisfied: future in /usr/local/lib/python3.7/dist-packages (from torch==1.6.0->torchvision>=0.4->pytorch3d==0.2.5) (0.16.0)\n",
            "Building wheels for collected packages: fvcore\n",
            "  Building wheel for fvcore (setup.py) ... \u001b[?25l\u001b[?25hdone\n",
            "  Created wheel for fvcore: filename=fvcore-0.1.5.post20210402-cp37-none-any.whl size=59021 sha256=846428c735929404f14be20b4970c21882e871c4853a4bb150414a4905322709\n",
            "  Stored in directory: /root/.cache/pip/wheels/a4/88/c2/12ecbba4159fe079e2bd2aa290571dba6e0b97efae3d7d3e7d\n",
            "Successfully built fvcore\n",
            "Installing collected packages: pyyaml, yacs, portalocker, iopath, fvcore, pytorch3d\n",
            "  Found existing installation: PyYAML 3.13\n",
            "    Uninstalling PyYAML-3.13:\n",
            "      Successfully uninstalled PyYAML-3.13\n",
            "Successfully installed fvcore-0.1.5.post20210402 iopath-0.1.8 portalocker-2.3.0 pytorch3d-0.2.5 pyyaml-5.4.1 yacs-0.1.8\n"
          ],
          "name": "stdout"
        }
      ]
    },
    {
      "cell_type": "markdown",
      "metadata": {
        "id": "eclLG4xlJRIE"
      },
      "source": [
        "# PIFuHD Demo: https://shunsukesaito.github.io/PIFuHD/\n",
        "\n",
        "![](https://shunsukesaito.github.io/PIFuHD/resources/images/pifuhd.gif)\n",
        "\n",
        "Made by [![Follow](https://img.shields.io/twitter/follow/psyth91?style=social)](https://twitter.com/psyth91)\n",
        "\n",
        "To see how the model works, visit the project repository.\n",
        "\n",
        "[![GitHub stars](https://img.shields.io/github/stars/facebookresearch/pifuhd?style=social)](https://github.com/facebookresearch/pifuhd)"
      ]
    },
    {
      "cell_type": "markdown",
      "metadata": {
        "id": "wmFdsTvLKtBO"
      },
      "source": [
        "## Note\n",
        "Make sure that your runtime type is 'Python 3 with GPU acceleration'. To do so, go to Edit > Notebook settings > Hardware Accelerator > Select \"GPU\"."
      ]
    },
    {
      "cell_type": "markdown",
      "metadata": {
        "id": "1TfPAtL4CyZw"
      },
      "source": [
        "## More Info\n",
        "- Paper: https://arxiv.org/pdf/2004.00452.pdf\n",
        "- Repo: https://github.com/facebookresearch/pifuhd\n",
        "- Project Page: https://shunsukesaito.github.io/PIFuHD/\n",
        "- 1-minute/5-minute Presentation (see below)"
      ]
    },
    {
      "cell_type": "code",
      "metadata": {
        "id": "5DDpqpf2BABR",
        "colab": {
          "base_uri": "https://localhost:8080/",
          "height": 927
        },
        "outputId": "de3eceb8-db9f-42a8-ca9a-b2825341a97e"
      },
      "source": [
        "import IPython\n",
        "IPython.display.HTML('<h2>1-Minute Presentation</h2><iframe width=\"720\" height=\"405\" src=\"https://www.youtube.com/embed/-1XYTmm8HhE\" frameborder=\"0\" allow=\"accelerometer; autoplay; encrypted-media; gyroscope; picture-in-picture\" allowfullscreen></iframe><br><h2>5-Minute Presentation</h2><iframe width=\"720\" height=\"405\" src=\"https://www.youtube.com/embed/uEDqCxvF5yc\" frameborder=\"0\" allow=\"accelerometer; autoplay; encrypted-media; gyroscope; picture-in-picture\" allowfullscreen></iframe>')"
      ],
      "execution_count": 3,
      "outputs": [
        {
          "output_type": "execute_result",
          "data": {
            "text/html": [
              "<h2>1-Minute Presentation</h2><iframe width=\"720\" height=\"405\" src=\"https://www.youtube.com/embed/-1XYTmm8HhE\" frameborder=\"0\" allow=\"accelerometer; autoplay; encrypted-media; gyroscope; picture-in-picture\" allowfullscreen></iframe><br><h2>5-Minute Presentation</h2><iframe width=\"720\" height=\"405\" src=\"https://www.youtube.com/embed/uEDqCxvF5yc\" frameborder=\"0\" allow=\"accelerometer; autoplay; encrypted-media; gyroscope; picture-in-picture\" allowfullscreen></iframe>"
            ],
            "text/plain": [
              "<IPython.core.display.HTML object>"
            ]
          },
          "metadata": {
            "tags": []
          },
          "execution_count": 3
        }
      ]
    },
    {
      "cell_type": "markdown",
      "metadata": {
        "id": "8vZaAyhUJ9QC"
      },
      "source": [
        "## Requirements\n",
        "- Python 3\n",
        "- PyTorch tested on 1.4.0\n",
        "- json\n",
        "- PIL\n",
        "- skimage\n",
        "- tqdm\n",
        "- numpy\n",
        "- cv2"
      ]
    },
    {
      "cell_type": "markdown",
      "metadata": {
        "id": "sfPDep8LlP_I"
      },
      "source": [
        "## Help! I'm new to Google Colab\n",
        "\n",
        "You can check out the following youtube video on how to upload your own picture and run PIFuHD. **Note that with new update, you can upload your own picture more easily with GUI down below.**\n"
      ]
    },
    {
      "cell_type": "code",
      "metadata": {
        "id": "zaMP1EitljaA",
        "colab": {
          "base_uri": "https://localhost:8080/",
          "height": 425
        },
        "outputId": "90e0c136-408b-4f99-aacb-411196060f54"
      },
      "source": [
        "import IPython\n",
        "IPython.display.HTML('<iframe width=\"720\" height=\"405\" src=\"https://www.youtube.com/embed/LWDGR5v3-3o\" frameborder=\"0\" allow=\"accelerometer; autoplay; encrypted-media; gyroscope; picture-in-picture\" allowfullscreen></iframe>')"
      ],
      "execution_count": 4,
      "outputs": [
        {
          "output_type": "execute_result",
          "data": {
            "text/html": [
              "<iframe width=\"720\" height=\"405\" src=\"https://www.youtube.com/embed/LWDGR5v3-3o\" frameborder=\"0\" allow=\"accelerometer; autoplay; encrypted-media; gyroscope; picture-in-picture\" allowfullscreen></iframe>"
            ],
            "text/plain": [
              "<IPython.core.display.HTML object>"
            ]
          },
          "metadata": {
            "tags": []
          },
          "execution_count": 4
        }
      ]
    },
    {
      "cell_type": "markdown",
      "metadata": {
        "id": "WYhlsDkg1Hwb"
      },
      "source": [
        "## Clone PIFuHD repository"
      ]
    },
    {
      "cell_type": "code",
      "metadata": {
        "id": "BmpEwdOd1G1z",
        "colab": {
          "base_uri": "https://localhost:8080/"
        },
        "outputId": "3f5d9e64-9c0e-481b-e6d7-37882903fd34"
      },
      "source": [
        "!git clone https://github.com/facebookresearch/pifuhd\n",
        "# !pip install 'git+https://github.com/facebookresearch/pytorch3d.git@stable"
      ],
      "execution_count": 5,
      "outputs": [
        {
          "output_type": "stream",
          "text": [
            "Cloning into 'pifuhd'...\n",
            "remote: Enumerating objects: 213, done.\u001b[K\n",
            "remote: Total 213 (delta 0), reused 0 (delta 0), pack-reused 213\u001b[K\n",
            "Receiving objects: 100% (213/213), 402.72 KiB | 14.38 MiB/s, done.\n",
            "Resolving deltas: 100% (104/104), done.\n"
          ],
          "name": "stdout"
        }
      ]
    },
    {
      "cell_type": "markdown",
      "metadata": {
        "id": "QvQm-A8ESKb2"
      },
      "source": [
        "## Configure input data"
      ]
    },
    {
      "cell_type": "code",
      "metadata": {
        "id": "xvle9T10fB6g",
        "colab": {
          "base_uri": "https://localhost:8080/"
        },
        "outputId": "db617d74-b52f-4627-a568-d70aaff62823"
      },
      "source": [
        "cd /content/pifuhd/sample_images"
      ],
      "execution_count": 6,
      "outputs": [
        {
          "output_type": "stream",
          "text": [
            "/content/pifuhd/sample_images\n"
          ],
          "name": "stdout"
        }
      ]
    },
    {
      "cell_type": "markdown",
      "metadata": {
        "id": "9SI7Ye1JfIim"
      },
      "source": [
        "**If you want to upload your own picture, run the next cell**. Otherwise, go to the next next cell. Currently PNG, JPEG files are supported."
      ]
    },
    {
      "cell_type": "code",
      "metadata": {
        "id": "AEzmmB01SOZp"
      },
      "source": [
        "import os\n",
        "\n",
        "try:\n",
        "  # pass\n",
        "  try:\n",
        "    image_path = '/content/%s' % filename\n",
        "  except:\n",
        "    a = os.listdir('/content')\n",
        "    for i in a:\n",
        "      if i.endswith('.png'):\n",
        "        image_path = '/content/'+i\n",
        "        break\n",
        "except:\n",
        "    image_path = '/content/pifuhd/sample_images/test.png' # example image\n",
        "image_dir = os.path.dirname(image_path)\n",
        "file_name = os.path.splitext(os.path.basename(image_path))[0]\n",
        "\n",
        "# output pathes\n",
        "obj_path = '/content/pifuhd/results/pifuhd_final/recon/result_%s_256.obj' % file_name\n",
        "out_img_path = '/content/pifuhd/results/pifuhd_final/recon/result_%s_256.png' % file_name\n",
        "video_path = '/content/pifuhd/results/pifuhd_final/recon/result_%s_256.mp4' % file_name\n",
        "video_display_path = '/content/pifuhd/results/pifuhd_final/result_%s_256_display.mp4' % file_name\n",
        "\n",
        "# obj_path = '/result_%s_256.obj' % file_name\n",
        "# out_img_path = '/result_%s_256.png' % file_name\n",
        "# video_path = '/result_%s_256.mp4' % file_name\n",
        "# video_display_path = '/result_%s_256_display.mp4' % file_name"
      ],
      "execution_count": 7,
      "outputs": []
    },
    {
      "cell_type": "code",
      "metadata": {
        "id": "896EC7iQfXkj",
        "colab": {
          "base_uri": "https://localhost:8080/"
        },
        "outputId": "31442616-9ea6-470a-87f4-4b8e5cbd7de0"
      },
      "source": [
        "cd /content"
      ],
      "execution_count": 8,
      "outputs": [
        {
          "output_type": "stream",
          "text": [
            "/content\n"
          ],
          "name": "stdout"
        }
      ]
    },
    {
      "cell_type": "code",
      "metadata": {
        "id": "oqHhd7wumgep",
        "colab": {
          "base_uri": "https://localhost:8080/"
        },
        "outputId": "6b00cfb8-1596-466b-87e5-e77c588fdb73"
      },
      "source": [
        "print(image_dir,file_name)\n",
        "print(image_path)"
      ],
      "execution_count": 9,
      "outputs": [
        {
          "output_type": "stream",
          "text": [
            "/content man-in-suit-standing-11549008032uo27puiagi\n",
            "/content/man-in-suit-standing-11549008032uo27puiagi.png\n"
          ],
          "name": "stdout"
        }
      ]
    },
    {
      "cell_type": "markdown",
      "metadata": {
        "id": "JbVmda9J5TDL"
      },
      "source": [
        "## Preprocess (for cropping image)"
      ]
    },
    {
      "cell_type": "code",
      "metadata": {
        "id": "UtMjWGNU5STe",
        "colab": {
          "base_uri": "https://localhost:8080/"
        },
        "outputId": "a04336d1-3c53-4391-e367-07609a3f0004"
      },
      "source": [
        "!git clone https://github.com/Daniil-Osokin/lightweight-human-pose-estimation.pytorch.git"
      ],
      "execution_count": 10,
      "outputs": [
        {
          "output_type": "stream",
          "text": [
            "Cloning into 'lightweight-human-pose-estimation.pytorch'...\n",
            "remote: Enumerating objects: 115, done.\u001b[K\n",
            "remote: Total 115 (delta 0), reused 0 (delta 0), pack-reused 115\u001b[K\n",
            "Receiving objects: 100% (115/115), 224.46 KiB | 10.20 MiB/s, done.\n",
            "Resolving deltas: 100% (49/49), done.\n"
          ],
          "name": "stdout"
        }
      ]
    },
    {
      "cell_type": "code",
      "metadata": {
        "id": "F-vYklhI5dab",
        "colab": {
          "base_uri": "https://localhost:8080/"
        },
        "outputId": "f0703b31-1aac-490c-d977-6a7e835655ad"
      },
      "source": [
        "cd /content/lightweight-human-pose-estimation.pytorch/"
      ],
      "execution_count": 11,
      "outputs": [
        {
          "output_type": "stream",
          "text": [
            "/content/lightweight-human-pose-estimation.pytorch\n"
          ],
          "name": "stdout"
        }
      ]
    },
    {
      "cell_type": "code",
      "metadata": {
        "id": "dRod9SOu77I6",
        "colab": {
          "base_uri": "https://localhost:8080/"
        },
        "outputId": "d1b356ac-3e7a-4ab9-c8c2-0c6dc64197ed"
      },
      "source": [
        "!wget https://download.01.org/opencv/openvino_training_extensions/models/human_pose_estimation/checkpoint_iter_370000.pth"
      ],
      "execution_count": 12,
      "outputs": [
        {
          "output_type": "stream",
          "text": [
            "--2021-04-07 06:43:18--  https://download.01.org/opencv/openvino_training_extensions/models/human_pose_estimation/checkpoint_iter_370000.pth\n",
            "Resolving download.01.org (download.01.org)... 184.86.202.186, 2600:1409:8800:184::4b21, 2600:1409:8800:18e::4b21\n",
            "Connecting to download.01.org (download.01.org)|184.86.202.186|:443... connected.\n",
            "HTTP request sent, awaiting response... 200 OK\n",
            "Length: 87959810 (84M) [application/octet-stream]\n",
            "Saving to: ‘checkpoint_iter_370000.pth’\n",
            "\n",
            "checkpoint_iter_370 100%[===================>]  83.88M   160MB/s    in 0.5s    \n",
            "\n",
            "2021-04-07 06:43:19 (160 MB/s) - ‘checkpoint_iter_370000.pth’ saved [87959810/87959810]\n",
            "\n"
          ],
          "name": "stdout"
        }
      ]
    },
    {
      "cell_type": "code",
      "metadata": {
        "id": "PdRcDXe38lHB"
      },
      "source": [
        "import torch\n",
        "import cv2\n",
        "import numpy as np\n",
        "from models.with_mobilenet import PoseEstimationWithMobileNet\n",
        "from modules.keypoints import extract_keypoints, group_keypoints\n",
        "from modules.load_state import load_state\n",
        "from modules.pose import Pose, track_poses\n",
        "import demo\n",
        "\n",
        "def get_rect(net, images, height_size):\n",
        "    net = net.eval()\n",
        "\n",
        "    stride = 8\n",
        "    upsample_ratio = 4\n",
        "    num_keypoints = Pose.num_kpts\n",
        "    previous_poses = []\n",
        "    delay = 33\n",
        "    for image in images:\n",
        "        rect_path = image.replace('.%s' % (image.split('.')[-1]), '_rect.txt')\n",
        "        img = cv2.imread(image, cv2.IMREAD_COLOR)\n",
        "        orig_img = img.copy()\n",
        "        orig_img = img.copy()\n",
        "        heatmaps, pafs, scale, pad = demo.infer_fast(net, img, height_size, stride, upsample_ratio, cpu=False)\n",
        "\n",
        "        total_keypoints_num = 0\n",
        "        all_keypoints_by_type = []\n",
        "        for kpt_idx in range(num_keypoints):  # 19th for bg\n",
        "            total_keypoints_num += extract_keypoints(heatmaps[:, :, kpt_idx], all_keypoints_by_type, total_keypoints_num)\n",
        "\n",
        "        pose_entries, all_keypoints = group_keypoints(all_keypoints_by_type, pafs)\n",
        "        for kpt_id in range(all_keypoints.shape[0]):\n",
        "            all_keypoints[kpt_id, 0] = (all_keypoints[kpt_id, 0] * stride / upsample_ratio - pad[1]) / scale\n",
        "            all_keypoints[kpt_id, 1] = (all_keypoints[kpt_id, 1] * stride / upsample_ratio - pad[0]) / scale\n",
        "        current_poses = []\n",
        "\n",
        "        rects = []\n",
        "        for n in range(len(pose_entries)):\n",
        "            if len(pose_entries[n]) == 0:\n",
        "                continue\n",
        "            pose_keypoints = np.ones((num_keypoints, 2), dtype=np.int32) * -1\n",
        "            valid_keypoints = []\n",
        "            for kpt_id in range(num_keypoints):\n",
        "                if pose_entries[n][kpt_id] != -1.0:  # keypoint was found\n",
        "                    pose_keypoints[kpt_id, 0] = int(all_keypoints[int(pose_entries[n][kpt_id]), 0])\n",
        "                    pose_keypoints[kpt_id, 1] = int(all_keypoints[int(pose_entries[n][kpt_id]), 1])\n",
        "                    valid_keypoints.append([pose_keypoints[kpt_id, 0], pose_keypoints[kpt_id, 1]])\n",
        "            valid_keypoints = np.array(valid_keypoints)\n",
        "            \n",
        "            if pose_entries[n][10] != -1.0 or pose_entries[n][13] != -1.0:\n",
        "              pmin = valid_keypoints.min(0)\n",
        "              pmax = valid_keypoints.max(0)\n",
        "\n",
        "              center = (0.5 * (pmax[:2] + pmin[:2])).astype(np.int)\n",
        "              radius = int(0.65 * max(pmax[0]-pmin[0], pmax[1]-pmin[1]))\n",
        "            elif pose_entries[n][10] == -1.0 and pose_entries[n][13] == -1.0 and pose_entries[n][8] != -1.0 and pose_entries[n][11] != -1.0:\n",
        "              # if leg is missing, use pelvis to get cropping\n",
        "              center = (0.5 * (pose_keypoints[8] + pose_keypoints[11])).astype(np.int)\n",
        "              radius = int(1.45*np.sqrt(((center[None,:] - valid_keypoints)**2).sum(1)).max(0))\n",
        "              center[1] += int(0.05*radius)\n",
        "            else:\n",
        "              center = np.array([img.shape[1]//2,img.shape[0]//2])\n",
        "              radius = max(img.shape[1]//2,img.shape[0]//2)\n",
        "\n",
        "            x1 = center[0] - radius\n",
        "            y1 = center[1] - radius\n",
        "\n",
        "            rects.append([x1, y1, 2*radius, 2*radius])\n",
        "\n",
        "        np.savetxt(rect_path, np.array(rects), fmt='%d')"
      ],
      "execution_count": 13,
      "outputs": []
    },
    {
      "cell_type": "code",
      "metadata": {
        "id": "M6cGZD6f6IaY"
      },
      "source": [
        "net = PoseEstimationWithMobileNet()\n",
        "checkpoint = torch.load('checkpoint_iter_370000.pth', map_location='cpu')\n",
        "load_state(net, checkpoint)\n",
        "\n",
        "get_rect(net.cuda(), [image_path], 512)"
      ],
      "execution_count": 15,
      "outputs": []
    },
    {
      "cell_type": "markdown",
      "metadata": {
        "id": "Y0rgMInwTt0s"
      },
      "source": [
        "## Download the Pretrained Model"
      ]
    },
    {
      "cell_type": "code",
      "metadata": {
        "id": "UrIcZweSNRFI",
        "colab": {
          "base_uri": "https://localhost:8080/"
        },
        "outputId": "6bc90a93-785f-4c62-f9b4-43c9c98c5e67"
      },
      "source": [
        "cd /content/pifuhd/"
      ],
      "execution_count": 16,
      "outputs": [
        {
          "output_type": "stream",
          "text": [
            "/content/pifuhd\n"
          ],
          "name": "stdout"
        }
      ]
    },
    {
      "cell_type": "code",
      "metadata": {
        "id": "k3jjm6HuQRk8",
        "colab": {
          "base_uri": "https://localhost:8080/"
        },
        "outputId": "c0f36ec8-d87d-4a60-ab50-b46604c4b710"
      },
      "source": [
        "!sh ./scripts/download_trained_model.sh"
      ],
      "execution_count": 17,
      "outputs": [
        {
          "output_type": "stream",
          "text": [
            "+ mkdir -p checkpoints\n",
            "+ cd checkpoints\n",
            "+ wget https://dl.fbaipublicfiles.com/pifuhd/checkpoints/pifuhd.pt pifuhd.pt\n",
            "--2021-04-07 06:43:23--  https://dl.fbaipublicfiles.com/pifuhd/checkpoints/pifuhd.pt\n",
            "Resolving dl.fbaipublicfiles.com (dl.fbaipublicfiles.com)... 104.22.74.142, 172.67.9.4, 104.22.75.142, ...\n",
            "Connecting to dl.fbaipublicfiles.com (dl.fbaipublicfiles.com)|104.22.74.142|:443... connected.\n",
            "HTTP request sent, awaiting response... 200 OK\n",
            "Length: 1548375177 (1.4G) [application/octet-stream]\n",
            "Saving to: ‘pifuhd.pt’\n",
            "\n",
            "pifuhd.pt           100%[===================>]   1.44G  42.3MB/s    in 35s     \n",
            "\n",
            "2021-04-07 06:43:59 (42.0 MB/s) - ‘pifuhd.pt’ saved [1548375177/1548375177]\n",
            "\n",
            "--2021-04-07 06:43:59--  http://pifuhd.pt/\n",
            "Resolving pifuhd.pt (pifuhd.pt)... failed: Name or service not known.\n",
            "wget: unable to resolve host address ‘pifuhd.pt’\n",
            "FINISHED --2021-04-07 06:43:59--\n",
            "Total wall clock time: 36s\n",
            "Downloaded: 1 files, 1.4G in 35s (42.0 MB/s)\n"
          ],
          "name": "stdout"
        }
      ]
    },
    {
      "cell_type": "markdown",
      "metadata": {
        "id": "6heKcA-0QEBw"
      },
      "source": [
        "## Run PIFuHD!\n"
      ]
    },
    {
      "cell_type": "code",
      "metadata": {
        "id": "5995t2PnQTmG",
        "colab": {
          "base_uri": "https://localhost:8080/"
        },
        "outputId": "a15e1c64-1ba2-4126-9bc9-bf71e6ea996c"
      },
      "source": [
        "# Warning: all images with the corresponding rectangle files under -i will be processed. \n",
        "!python -m apps.simple_test -r 256 --use_rect -i $image_dir\n",
        "\n",
        "# seems that 256 is the maximum resolution that can fit into Google Colab. \n",
        "# If you want to reconstruct a higher-resolution mesh, please try with your own machine. "
      ],
      "execution_count": 18,
      "outputs": [
        {
          "output_type": "stream",
          "text": [
            "Resuming from  ./checkpoints/pifuhd.pt\n",
            "Warning: opt is overwritten.\n",
            "test data size:  1\n",
            "initialize network with normal\n",
            "initialize network with normal\n",
            "generate mesh (test) ...\n",
            "  0% 0/1 [00:00<?, ?it/s]./results/pifuhd_final/recon/result_man-in-suit-standing-11549008032uo27puiagi_256.obj\n",
            "100% 1/1 [00:06<00:00,  6.06s/it]\n"
          ],
          "name": "stdout"
        }
      ]
    },
    {
      "cell_type": "markdown",
      "metadata": {
        "id": "EUZ8Nt5rNFXZ"
      },
      "source": [
        "## Render the result"
      ]
    },
    {
      "cell_type": "code",
      "metadata": {
        "id": "5xp5s5uiOiDv",
        "colab": {
          "base_uri": "https://localhost:8080/"
        },
        "outputId": "cb52a436-b3ee-4390-ee32-74f658980c86"
      },
      "source": [
        "!pip install pytorch3d\n",
        "\n",
        "# If you get an error in the next cell, you can instead try the following command (don't forget to comment out the one above!).\n",
        "# Note that this error is caused by inconsistent cuda version for the pytorch3d package and pytorch in Colab environment.\n",
        "# Thus, this issue may persist unless pytorch3d in the pip package is updated with the cuda version consistent with pytorch in Colab.\n",
        "# Also please be aware that the following command is much slower as it builds pytorch3d from scratch.\n",
        "\n",
        "# !pip install 'git+https://github.com/facebookresearch/pytorch3d.git@stable'\n",
        "\n",
        "# You can try another solution below as well. This is also slow and requires you to restart the runtime.\n",
        "\n",
        "# !pip install 'torch==1.6.0+cu101' -f https://download.pytorch.org/whl/torch_stable.html\n",
        "# !pip install 'torchvision==0.7.0+cu101' -f https://download.pytorch.org/whl/torch_stable.html\n",
        "# !pip install 'pytorch3d==0.2.5'"
      ],
      "execution_count": 19,
      "outputs": [
        {
          "output_type": "stream",
          "text": [
            "Requirement already satisfied: pytorch3d in /usr/local/lib/python3.7/dist-packages (0.2.5)\n",
            "Requirement already satisfied: torchvision>=0.4 in /usr/local/lib/python3.7/dist-packages (from pytorch3d) (0.7.0+cu101)\n",
            "Requirement already satisfied: fvcore in /usr/local/lib/python3.7/dist-packages (from pytorch3d) (0.1.5.post20210402)\n",
            "Requirement already satisfied: pillow>=4.1.1 in /usr/local/lib/python3.7/dist-packages (from torchvision>=0.4->pytorch3d) (7.1.2)\n",
            "Requirement already satisfied: numpy in /usr/local/lib/python3.7/dist-packages (from torchvision>=0.4->pytorch3d) (1.19.5)\n",
            "Requirement already satisfied: torch==1.6.0 in /usr/local/lib/python3.7/dist-packages (from torchvision>=0.4->pytorch3d) (1.6.0+cu101)\n",
            "Requirement already satisfied: iopath>=0.1.7 in /usr/local/lib/python3.7/dist-packages (from fvcore->pytorch3d) (0.1.8)\n",
            "Requirement already satisfied: termcolor>=1.1 in /usr/local/lib/python3.7/dist-packages (from fvcore->pytorch3d) (1.1.0)\n",
            "Requirement already satisfied: yacs>=0.1.6 in /usr/local/lib/python3.7/dist-packages (from fvcore->pytorch3d) (0.1.8)\n",
            "Requirement already satisfied: pyyaml>=5.1 in /usr/local/lib/python3.7/dist-packages (from fvcore->pytorch3d) (5.4.1)\n",
            "Requirement already satisfied: tabulate in /usr/local/lib/python3.7/dist-packages (from fvcore->pytorch3d) (0.8.9)\n",
            "Requirement already satisfied: tqdm in /usr/local/lib/python3.7/dist-packages (from fvcore->pytorch3d) (4.41.1)\n",
            "Requirement already satisfied: future in /usr/local/lib/python3.7/dist-packages (from torch==1.6.0->torchvision>=0.4->pytorch3d) (0.16.0)\n",
            "Requirement already satisfied: portalocker in /usr/local/lib/python3.7/dist-packages (from iopath>=0.1.7->fvcore->pytorch3d) (2.3.0)\n"
          ],
          "name": "stdout"
        }
      ]
    },
    {
      "cell_type": "code",
      "metadata": {
        "id": "afwL_-ROCmDf",
        "colab": {
          "base_uri": "https://localhost:8080/",
          "height": 320,
          "referenced_widgets": [
            "ec5423a38c9743ef8bf3ea107c68907f",
            "c27b771d544c46c2835b9afde0261e78",
            "6ff97ced2ce24551aab26b75c9c983d9",
            "a6332c4238ee4f9abe9cf45c520ae795",
            "8c7cd963f0b64a27adc8bff391e3a6ec",
            "e82a0216c58b451b88ca575a2ea69ba2",
            "b6d2ffbc28e74644a4964f16a2062c80",
            "8b425b8723d54b33b6ad48b92b7be900"
          ]
        },
        "outputId": "83dfb6f1-0479-4c78-9795-433ec9fedbf1"
      },
      "source": [
        "from lib.colab_util import generate_video_from_obj, set_renderer, video\n",
        "\n",
        "renderer = set_renderer()\n",
        "generate_video_from_obj(obj_path, out_img_path, video_path, renderer)\n",
        "\n",
        "# we cannot play a mp4 video generated by cv2\n",
        "!ffmpeg -i $video_path -vcodec libx264 $video_display_path -y -loglevel quiet\n",
        "video(video_display_path)"
      ],
      "execution_count": 20,
      "outputs": [
        {
          "output_type": "display_data",
          "data": {
            "application/vnd.jupyter.widget-view+json": {
              "model_id": "ec5423a38c9743ef8bf3ea107c68907f",
              "version_minor": 0,
              "version_major": 2
            },
            "text/plain": [
              "HBox(children=(FloatProgress(value=0.0, max=90.0), HTML(value='')))"
            ]
          },
          "metadata": {
            "tags": []
          }
        },
        {
          "output_type": "stream",
          "text": [
            "\n"
          ],
          "name": "stdout"
        },
        {
          "output_type": "execute_result",
          "data": {
            "text/html": [
              "<video width=500 controls loop> <source src=\"data:video/mp4;base64,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\" type=\"video/mp4\"></video>"
            ],
            "text/plain": [
              "<IPython.core.display.HTML object>"
            ]
          },
          "metadata": {
            "tags": []
          },
          "execution_count": 20
        }
      ]
    },
    {
      "cell_type": "markdown",
      "metadata": {
        "id": "eUEXAvcvkVYV"
      },
      "source": [
        "## Tips for Inputs: My results are broken!\n",
        "\n",
        "(Kudos to those who share results on twitter with [#pifuhd](https://twitter.com/search?q=%23pifuhd&src=recent_search_click&f=live) tag!!!!)\n",
        "\n",
        "Due to the limited variation in the training data, your results might be broken sometimes. Here I share some useful tips to get resonable results. \n",
        "\n",
        "*   Use high-res image. The model is trained with 1024x1024 images. Use at least 512x512 with fine-details. Low-res images and JPEG artifacts may result in unsatisfactory results. \n",
        "*   Use an image with a single person. If the image contain multiple people, reconstruction quality is likely degraded.\n",
        "*   Front facing with standing works best (or with fashion pose)\n",
        "*   The entire body is covered within the image. (Note: now missing legs is partially supported)\n",
        "*   Make sure the input image is well lit. Exteremy dark or bright image and strong shadow often create artifacts.\n",
        "*   I recommend nearly parallel camera angle to the ground. High camera height may result in distorted legs or high heels. \n",
        "*   If the background is cluttered, use less complex background or try removing it using https://www.remove.bg/ before processing.\n",
        "*   It's trained with human only. Anime characters may not work well (To my surprise, indeed many people tried it!!).\n",
        "*   Search on twitter with [#pifuhd](https://twitter.com/search?q=%23pifuhd&src=recent_search_click&f=live) tag to get a better sense of what succeeds and what fails. \n"
      ]
    },
    {
      "cell_type": "markdown",
      "metadata": {
        "id": "u6U0K5CNAO_u"
      },
      "source": [
        "## Share your result! \n",
        "Please share your results with[ #pifuhd](https://twitter.com/search?q=%23pifuhd&src=recent_search_click&f=live) tag on Twitter. Sharing your good/bad results helps and encourages the authors to further push towards producition-quality human digitization at home.\n",
        "**As the tweet buttom below doesn't add the result video automatically, please download the result video above and manually add it to the tweet.**"
      ]
    },
    {
      "cell_type": "code",
      "metadata": {
        "id": "1CBxbdrM9F-9",
        "colab": {
          "base_uri": "https://localhost:8080/",
          "height": 47
        },
        "outputId": "0865c5ed-bfd1-4611-9caf-20fb92ec08e5"
      },
      "source": [
        "import IPython\n",
        "IPython.display.HTML('<a href=\"https://twitter.com/intent/tweet?button_hashtag=pifuhd&ref_src=twsrc%5Etfw\" class=\"twitter-hashtag-button\" data-size=\"large\" data-text=\"Google Colab Link: \" data-url=\"https://bit.ly/37sfogZ\" data-show-count=\"false\">Tweet #pifuhd</a><script async src=\"https://platform.twitter.com/widgets.js\" charset=\"utf-8\"></script>  (Don\\'t forget to add your result to the tweet!)')"
      ],
      "execution_count": 21,
      "outputs": [
        {
          "output_type": "execute_result",
          "data": {
            "text/html": [
              "<a href=\"https://twitter.com/intent/tweet?button_hashtag=pifuhd&ref_src=twsrc%5Etfw\" class=\"twitter-hashtag-button\" data-size=\"large\" data-text=\"Google Colab Link: \" data-url=\"https://bit.ly/37sfogZ\" data-show-count=\"false\">Tweet #pifuhd</a><script async src=\"https://platform.twitter.com/widgets.js\" charset=\"utf-8\"></script>  (Don't forget to add your result to the tweet!)"
            ],
            "text/plain": [
              "<IPython.core.display.HTML object>"
            ]
          },
          "metadata": {
            "tags": []
          },
          "execution_count": 21
        }
      ]
    },
    {
      "cell_type": "markdown",
      "metadata": {
        "id": "2d-1pR8UR7PR"
      },
      "source": [
        "## Cool Applications\n",
        "Special thanks to those who play with PIFuHD and came up with many creative applications!! If you made any cool applications, please tweet your demo with [#pifuhd](https://twitter.com/search?q=%23pifuhd&src=recent_search_click&f=live). I'm constantly checking results there.\n",
        "If you need complete texture on the mesh, please try my previous work [PIFu](https://github.com/shunsukesaito/PIFu) as well! It supports 3D reconstruction + texturing from a single image although the geometry quality may not be as good as PIFuHD."
      ]
    },
    {
      "cell_type": "code",
      "metadata": {
        "id": "68JDAYJFSFMV",
        "colab": {
          "base_uri": "https://localhost:8080/",
          "height": 1000
        },
        "outputId": "f7402447-b336-4545-e654-4efcff7f9b04"
      },
      "source": [
        "IPython.display.HTML('<h2>Rigging (Mixamo) + Photoreal Rendering (Blender)</h2><blockquote class=\"twitter-tweet\"><p lang=\"pt\" dir=\"ltr\">vcs ainda tem a PACHORRA de me dizer que eu não sei dançar<a href=\"https://twitter.com/hashtag/b3d?src=hash&amp;ref_src=twsrc%5Etfw\">#b3d</a> <a href=\"https://twitter.com/hashtag/pifuhd?src=hash&amp;ref_src=twsrc%5Etfw\">#pifuhd</a> <a href=\"https://t.co/kHCnLh6zxH\">pic.twitter.com/kHCnLh6zxH</a></p>&mdash; lukas arendero (@lukazvd) <a href=\"https://twitter.com/lukazvd/status/1274810484798128131?ref_src=twsrc%5Etfw\">June 21, 2020</a></blockquote> <script async src=\"https://platform.twitter.com/widgets.js\" charset=\"utf-8\"></script><h2>FaceApp + Rigging (Mixamo)</h2><blockquote class=\"twitter-tweet\"><p lang=\"ja\" dir=\"ltr\">カツラかぶってる自分に見える <a href=\"https://twitter.com/hashtag/pifuhd?src=hash&amp;ref_src=twsrc%5Etfw\">#pifuhd</a> <a href=\"https://t.co/V8o7VduTiG\">pic.twitter.com/V8o7VduTiG</a></p>&mdash; Shuhei Tsuchida (@shuhei2306) <a href=\"https://twitter.com/shuhei2306/status/1274507242910314498?ref_src=twsrc%5Etfw\">June 21, 2020</a></blockquote> <script async src=\"https://platform.twitter.com/widgets.js\" charset=\"utf-8\"></script><h2>Rigging (Mixamo) + AR (Adobe Aero)</AR><blockquote class=\"twitter-tweet\"><p lang=\"ja\" dir=\"ltr\">写真→PIFuHD→Mixamo→AdobeAeroでサウンド付きARを作成。Zip化してLINEでARコンテンツを共有。<br>写真が1枚あれば簡単にARの3Dアニメーションが作れる時代…凄い。<a href=\"https://twitter.com/hashtag/PIFuHD?src=hash&amp;ref_src=twsrc%5Etfw\">#PIFuHD</a> <a href=\"https://twitter.com/hashtag/AdobeAero?src=hash&amp;ref_src=twsrc%5Etfw\">#AdobeAero</a> <a href=\"https://twitter.com/hashtag/Mixamo?src=hash&amp;ref_src=twsrc%5Etfw\">#Mixamo</a> <a href=\"https://t.co/CbiMi4gZ0K\">pic.twitter.com/CbiMi4gZ0K</a></p>&mdash; モジョン (@mojon1) <a href=\"https://twitter.com/mojon1/status/1273217947872317441?ref_src=twsrc%5Etfw\">June 17, 2020</a></blockquote> <script async src=\"https://platform.twitter.com/widgets.js\" charset=\"utf-8\"></script><h2>3D Printing</h2><blockquote class=\"twitter-tweet\"><p lang=\"ja\" dir=\"ltr\"><a href=\"https://twitter.com/hashtag/pifuhd?src=hash&amp;ref_src=twsrc%5Etfw\">#pifuhd</a> 楽しい〜<br>小さい自分プリントした <a href=\"https://t.co/4qyWuij0Hs\">pic.twitter.com/4qyWuij0Hs</a></p>&mdash; isb (@vxzxzxzxv) <a href=\"https://twitter.com/vxzxzxzxv/status/1273136266406694913?ref_src=twsrc%5Etfw\">June 17, 2020</a></blockquote> <script async src=\"https://platform.twitter.com/widgets.js\" charset=\"utf-8\"></script>')"
      ],
      "execution_count": 22,
      "outputs": [
        {
          "output_type": "execute_result",
          "data": {
            "text/html": [
              "<h2>Rigging (Mixamo) + Photoreal Rendering (Blender)</h2><blockquote class=\"twitter-tweet\"><p lang=\"pt\" dir=\"ltr\">vcs ainda tem a PACHORRA de me dizer que eu não sei dançar<a href=\"https://twitter.com/hashtag/b3d?src=hash&amp;ref_src=twsrc%5Etfw\">#b3d</a> <a href=\"https://twitter.com/hashtag/pifuhd?src=hash&amp;ref_src=twsrc%5Etfw\">#pifuhd</a> <a href=\"https://t.co/kHCnLh6zxH\">pic.twitter.com/kHCnLh6zxH</a></p>&mdash; lukas arendero (@lukazvd) <a href=\"https://twitter.com/lukazvd/status/1274810484798128131?ref_src=twsrc%5Etfw\">June 21, 2020</a></blockquote> <script async src=\"https://platform.twitter.com/widgets.js\" charset=\"utf-8\"></script><h2>FaceApp + Rigging (Mixamo)</h2><blockquote class=\"twitter-tweet\"><p lang=\"ja\" dir=\"ltr\">カツラかぶってる自分に見える <a href=\"https://twitter.com/hashtag/pifuhd?src=hash&amp;ref_src=twsrc%5Etfw\">#pifuhd</a> <a href=\"https://t.co/V8o7VduTiG\">pic.twitter.com/V8o7VduTiG</a></p>&mdash; Shuhei Tsuchida (@shuhei2306) <a href=\"https://twitter.com/shuhei2306/status/1274507242910314498?ref_src=twsrc%5Etfw\">June 21, 2020</a></blockquote> <script async src=\"https://platform.twitter.com/widgets.js\" charset=\"utf-8\"></script><h2>Rigging (Mixamo) + AR (Adobe Aero)</AR><blockquote class=\"twitter-tweet\"><p lang=\"ja\" dir=\"ltr\">写真→PIFuHD→Mixamo→AdobeAeroでサウンド付きARを作成。Zip化してLINEでARコンテンツを共有。<br>写真が1枚あれば簡単にARの3Dアニメーションが作れる時代…凄い。<a href=\"https://twitter.com/hashtag/PIFuHD?src=hash&amp;ref_src=twsrc%5Etfw\">#PIFuHD</a> <a href=\"https://twitter.com/hashtag/AdobeAero?src=hash&amp;ref_src=twsrc%5Etfw\">#AdobeAero</a> <a href=\"https://twitter.com/hashtag/Mixamo?src=hash&amp;ref_src=twsrc%5Etfw\">#Mixamo</a> <a href=\"https://t.co/CbiMi4gZ0K\">pic.twitter.com/CbiMi4gZ0K</a></p>&mdash; モジョン (@mojon1) <a href=\"https://twitter.com/mojon1/status/1273217947872317441?ref_src=twsrc%5Etfw\">June 17, 2020</a></blockquote> <script async src=\"https://platform.twitter.com/widgets.js\" charset=\"utf-8\"></script><h2>3D Printing</h2><blockquote class=\"twitter-tweet\"><p lang=\"ja\" dir=\"ltr\"><a href=\"https://twitter.com/hashtag/pifuhd?src=hash&amp;ref_src=twsrc%5Etfw\">#pifuhd</a> 楽しい〜<br>小さい自分プリントした <a href=\"https://t.co/4qyWuij0Hs\">pic.twitter.com/4qyWuij0Hs</a></p>&mdash; isb (@vxzxzxzxv) <a href=\"https://twitter.com/vxzxzxzxv/status/1273136266406694913?ref_src=twsrc%5Etfw\">June 17, 2020</a></blockquote> <script async src=\"https://platform.twitter.com/widgets.js\" charset=\"utf-8\"></script>"
            ],
            "text/plain": [
              "<IPython.core.display.HTML object>"
            ]
          },
          "metadata": {
            "tags": []
          },
          "execution_count": 22
        }
      ]
    },
    {
      "cell_type": "code",
      "metadata": {
        "id": "lX5CTTW_KWhQ",
        "colab": {
          "base_uri": "https://localhost:8080/",
          "height": 35
        },
        "outputId": "553c16ff-0779-4f2b-a902-42671b4e7300"
      },
      "source": [
        "import shutil\n",
        "shutil.move(obj_path, \"..\")\n",
        "shutil.move(out_img_path, \"..\")\n",
        "shutil.move(video_path, \"..\")\n",
        "shutil.move(video_display_path, \"..\")"
      ],
      "execution_count": 23,
      "outputs": [
        {
          "output_type": "execute_result",
          "data": {
            "application/vnd.google.colaboratory.intrinsic+json": {
              "type": "string"
            },
            "text/plain": [
              "'../result_man-in-suit-standing-11549008032uo27puiagi_256_display.mp4'"
            ]
          },
          "metadata": {
            "tags": []
          },
          "execution_count": 23
        }
      ]
    },
    {
      "cell_type": "code",
      "metadata": {
        "id": "CoNFE3R-zVmz"
      },
      "source": [
        ""
      ],
      "execution_count": 23,
      "outputs": []
    }
  ]
}